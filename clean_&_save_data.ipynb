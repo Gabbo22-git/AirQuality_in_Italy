{
 "cells": [
  {
   "cell_type": "code",
   "execution_count": 1,
   "metadata": {},
   "outputs": [],
   "source": [
    "import pandas as pd"
   ]
  },
  {
   "cell_type": "code",
   "execution_count": null,
   "metadata": {},
   "outputs": [],
   "source": [
    "file_no2 = '/Users/gabrielerizzo/Programmazione/PROJECT AirQuality/dirty data/2001_2022 NO2 .csv'\n",
    "file_o3 = '/Users/gabrielerizzo/Programmazione/PROJECT AirQuality/dirty data/2002_2022 O3.csv'\n",
    "file_pm10 = '/Users/gabrielerizzo/Programmazione/PROJECT AirQuality/dirty data/2002_2022_PM10.csv'\n",
    "file_pm25 = '/Users/gabrielerizzo/Programmazione/PROJECT AirQuality/dirty data/2004_2022_PM25.csv'\n",
    "\n",
    "df_no2 = pd.read_csv(file_no2, sep=\";\")\n",
    "df_o3 = pd.read_csv(file_o3, sep=\";\")\n",
    "df_pm10 = pd.read_csv(file_pm10, sep=\";\")\n",
    "df_pm25 = pd.read_csv(file_pm25, sep=\";\")\n"
   ]
  },
  {
   "cell_type": "code",
   "execution_count": null,
   "metadata": {},
   "outputs": [],
   "source": [
    "def load_and_clean_data(file_path):\n",
    "    df = pd.read_csv(file_path, sep=\";\")\n",
    "    # Rimozione della colonna 'Unnamed'\n",
    "    df = df.loc[:, ~df.columns.str.contains('^Unnamed')]\n",
    "    # Eliminazione delle righe con valori nulli\n",
    "    df = df.dropna()\n",
    "    # Filtra per mantenere solo i dati dal 2008 in poi\n",
    "    df = df[df['yy'] >= 2008]\n",
    "    # Ordinamento per la colonna 'Regione' in ordine alfabetico\n",
    "    df = df.sort_values(by='Regione').reset_index(drop=True)\n",
    "    return df\n",
    "\n",
    "df_no2 = load_and_clean_data(file_no2)\n",
    "df_o3 = load_and_clean_data(file_o3)\n",
    "df_pm10 = load_and_clean_data(file_pm10)\n",
    "df_pm25 = load_and_clean_data(file_pm25)\n",
    "\n",
    "#df_no2.to_csv('df_no2_clean.csv', index=False, sep=';')\n",
    "#df_o3.to_csv('df_o3_clean.csv', index=False, sep=';')\n",
    "#df_pm10.to_csv('df_pm10_clean.csv', index=False, sep=';')\n",
    "#df_pm25.to_csv('df_pm25_clean.csv', index=False, sep=';')"
   ]
  }
 ],
 "metadata": {
  "kernelspec": {
   "display_name": ".venv",
   "language": "python",
   "name": "python3"
  },
  "language_info": {
   "codemirror_mode": {
    "name": "ipython",
    "version": 3
   },
   "file_extension": ".py",
   "mimetype": "text/x-python",
   "name": "python",
   "nbconvert_exporter": "python",
   "pygments_lexer": "ipython3",
   "version": "3.13.0"
  }
 },
 "nbformat": 4,
 "nbformat_minor": 2
}
